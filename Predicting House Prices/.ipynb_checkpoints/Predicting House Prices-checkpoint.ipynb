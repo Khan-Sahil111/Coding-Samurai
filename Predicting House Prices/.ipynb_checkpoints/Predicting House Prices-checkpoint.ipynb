{
 "cells": [
  {
   "cell_type": "code",
   "execution_count": 1,
   "id": "46442f5d",
   "metadata": {},
   "outputs": [],
   "source": [
    "import numpy as np\n",
    "import pandas as pd\n",
    "import matplotlib.pyplot as plt\n",
    "import seaborn as sns\n",
    "from scipy.stats import zscore"
   ]
  },
  {
   "cell_type": "markdown",
   "id": "3cf1cf8f",
   "metadata": {},
   "source": [
    "# Data Collection"
   ]
  },
  {
   "cell_type": "code",
   "execution_count": 2,
   "id": "b0861520",
   "metadata": {},
   "outputs": [],
   "source": [
    "df = pd.read_csv(r'HousingPrices-Amsterdam-August-2021.csv')"
   ]
  },
  {
   "cell_type": "code",
   "execution_count": 3,
   "id": "663349cd",
   "metadata": {},
   "outputs": [
    {
     "data": {
      "text/html": [
       "<div>\n",
       "<style scoped>\n",
       "    .dataframe tbody tr th:only-of-type {\n",
       "        vertical-align: middle;\n",
       "    }\n",
       "\n",
       "    .dataframe tbody tr th {\n",
       "        vertical-align: top;\n",
       "    }\n",
       "\n",
       "    .dataframe thead th {\n",
       "        text-align: right;\n",
       "    }\n",
       "</style>\n",
       "<table border=\"1\" class=\"dataframe\">\n",
       "  <thead>\n",
       "    <tr style=\"text-align: right;\">\n",
       "      <th></th>\n",
       "      <th>Unnamed: 0</th>\n",
       "      <th>Address</th>\n",
       "      <th>Zip</th>\n",
       "      <th>Price</th>\n",
       "      <th>Area</th>\n",
       "      <th>Room</th>\n",
       "      <th>Lon</th>\n",
       "      <th>Lat</th>\n",
       "    </tr>\n",
       "  </thead>\n",
       "  <tbody>\n",
       "    <tr>\n",
       "      <th>0</th>\n",
       "      <td>1</td>\n",
       "      <td>Blasiusstraat 8 2, Amsterdam</td>\n",
       "      <td>1091 CR</td>\n",
       "      <td>685000.0</td>\n",
       "      <td>64</td>\n",
       "      <td>3</td>\n",
       "      <td>4.907736</td>\n",
       "      <td>52.356157</td>\n",
       "    </tr>\n",
       "    <tr>\n",
       "      <th>1</th>\n",
       "      <td>2</td>\n",
       "      <td>Kromme Leimuidenstraat 13 H, Amsterdam</td>\n",
       "      <td>1059 EL</td>\n",
       "      <td>475000.0</td>\n",
       "      <td>60</td>\n",
       "      <td>3</td>\n",
       "      <td>4.850476</td>\n",
       "      <td>52.348586</td>\n",
       "    </tr>\n",
       "    <tr>\n",
       "      <th>2</th>\n",
       "      <td>3</td>\n",
       "      <td>Zaaiersweg 11 A, Amsterdam</td>\n",
       "      <td>1097 SM</td>\n",
       "      <td>850000.0</td>\n",
       "      <td>109</td>\n",
       "      <td>4</td>\n",
       "      <td>4.944774</td>\n",
       "      <td>52.343782</td>\n",
       "    </tr>\n",
       "    <tr>\n",
       "      <th>3</th>\n",
       "      <td>4</td>\n",
       "      <td>Tenerifestraat 40, Amsterdam</td>\n",
       "      <td>1060 TH</td>\n",
       "      <td>580000.0</td>\n",
       "      <td>128</td>\n",
       "      <td>6</td>\n",
       "      <td>4.789928</td>\n",
       "      <td>52.343712</td>\n",
       "    </tr>\n",
       "    <tr>\n",
       "      <th>4</th>\n",
       "      <td>5</td>\n",
       "      <td>Winterjanpad 21, Amsterdam</td>\n",
       "      <td>1036 KN</td>\n",
       "      <td>720000.0</td>\n",
       "      <td>138</td>\n",
       "      <td>5</td>\n",
       "      <td>4.902503</td>\n",
       "      <td>52.410538</td>\n",
       "    </tr>\n",
       "  </tbody>\n",
       "</table>\n",
       "</div>"
      ],
      "text/plain": [
       "   Unnamed: 0                                 Address      Zip     Price  \\\n",
       "0           1            Blasiusstraat 8 2, Amsterdam  1091 CR  685000.0   \n",
       "1           2  Kromme Leimuidenstraat 13 H, Amsterdam  1059 EL  475000.0   \n",
       "2           3              Zaaiersweg 11 A, Amsterdam  1097 SM  850000.0   \n",
       "3           4            Tenerifestraat 40, Amsterdam  1060 TH  580000.0   \n",
       "4           5              Winterjanpad 21, Amsterdam  1036 KN  720000.0   \n",
       "\n",
       "   Area  Room       Lon        Lat  \n",
       "0    64     3  4.907736  52.356157  \n",
       "1    60     3  4.850476  52.348586  \n",
       "2   109     4  4.944774  52.343782  \n",
       "3   128     6  4.789928  52.343712  \n",
       "4   138     5  4.902503  52.410538  "
      ]
     },
     "execution_count": 3,
     "metadata": {},
     "output_type": "execute_result"
    }
   ],
   "source": [
    "df.head()"
   ]
  },
  {
   "cell_type": "code",
   "execution_count": 4,
   "id": "ed48aa6c",
   "metadata": {},
   "outputs": [
    {
     "data": {
      "text/plain": [
       "(924, 8)"
      ]
     },
     "execution_count": 4,
     "metadata": {},
     "output_type": "execute_result"
    }
   ],
   "source": [
    "df.shape"
   ]
  },
  {
   "cell_type": "code",
   "execution_count": 5,
   "id": "ccc32593",
   "metadata": {},
   "outputs": [
    {
     "data": {
      "text/html": [
       "<div>\n",
       "<style scoped>\n",
       "    .dataframe tbody tr th:only-of-type {\n",
       "        vertical-align: middle;\n",
       "    }\n",
       "\n",
       "    .dataframe tbody tr th {\n",
       "        vertical-align: top;\n",
       "    }\n",
       "\n",
       "    .dataframe thead th {\n",
       "        text-align: right;\n",
       "    }\n",
       "</style>\n",
       "<table border=\"1\" class=\"dataframe\">\n",
       "  <thead>\n",
       "    <tr style=\"text-align: right;\">\n",
       "      <th></th>\n",
       "      <th>Unnamed: 0</th>\n",
       "      <th>Price</th>\n",
       "      <th>Area</th>\n",
       "      <th>Room</th>\n",
       "      <th>Lon</th>\n",
       "      <th>Lat</th>\n",
       "    </tr>\n",
       "  </thead>\n",
       "  <tbody>\n",
       "    <tr>\n",
       "      <th>count</th>\n",
       "      <td>924.000000</td>\n",
       "      <td>9.200000e+02</td>\n",
       "      <td>924.000000</td>\n",
       "      <td>924.000000</td>\n",
       "      <td>924.000000</td>\n",
       "      <td>924.000000</td>\n",
       "    </tr>\n",
       "    <tr>\n",
       "      <th>mean</th>\n",
       "      <td>462.500000</td>\n",
       "      <td>6.220654e+05</td>\n",
       "      <td>95.952381</td>\n",
       "      <td>3.571429</td>\n",
       "      <td>4.888605</td>\n",
       "      <td>52.363326</td>\n",
       "    </tr>\n",
       "    <tr>\n",
       "      <th>std</th>\n",
       "      <td>266.880123</td>\n",
       "      <td>5.389942e+05</td>\n",
       "      <td>57.447436</td>\n",
       "      <td>1.592332</td>\n",
       "      <td>0.053140</td>\n",
       "      <td>0.024028</td>\n",
       "    </tr>\n",
       "    <tr>\n",
       "      <th>min</th>\n",
       "      <td>1.000000</td>\n",
       "      <td>1.750000e+05</td>\n",
       "      <td>21.000000</td>\n",
       "      <td>1.000000</td>\n",
       "      <td>4.644819</td>\n",
       "      <td>52.291519</td>\n",
       "    </tr>\n",
       "    <tr>\n",
       "      <th>25%</th>\n",
       "      <td>231.750000</td>\n",
       "      <td>3.500000e+05</td>\n",
       "      <td>60.750000</td>\n",
       "      <td>3.000000</td>\n",
       "      <td>4.855834</td>\n",
       "      <td>52.352077</td>\n",
       "    </tr>\n",
       "    <tr>\n",
       "      <th>50%</th>\n",
       "      <td>462.500000</td>\n",
       "      <td>4.670000e+05</td>\n",
       "      <td>83.000000</td>\n",
       "      <td>3.000000</td>\n",
       "      <td>4.886818</td>\n",
       "      <td>52.364631</td>\n",
       "    </tr>\n",
       "    <tr>\n",
       "      <th>75%</th>\n",
       "      <td>693.250000</td>\n",
       "      <td>7.000000e+05</td>\n",
       "      <td>113.000000</td>\n",
       "      <td>4.000000</td>\n",
       "      <td>4.922337</td>\n",
       "      <td>52.377598</td>\n",
       "    </tr>\n",
       "    <tr>\n",
       "      <th>max</th>\n",
       "      <td>924.000000</td>\n",
       "      <td>5.950000e+06</td>\n",
       "      <td>623.000000</td>\n",
       "      <td>14.000000</td>\n",
       "      <td>5.029122</td>\n",
       "      <td>52.423805</td>\n",
       "    </tr>\n",
       "  </tbody>\n",
       "</table>\n",
       "</div>"
      ],
      "text/plain": [
       "       Unnamed: 0         Price        Area        Room         Lon  \\\n",
       "count  924.000000  9.200000e+02  924.000000  924.000000  924.000000   \n",
       "mean   462.500000  6.220654e+05   95.952381    3.571429    4.888605   \n",
       "std    266.880123  5.389942e+05   57.447436    1.592332    0.053140   \n",
       "min      1.000000  1.750000e+05   21.000000    1.000000    4.644819   \n",
       "25%    231.750000  3.500000e+05   60.750000    3.000000    4.855834   \n",
       "50%    462.500000  4.670000e+05   83.000000    3.000000    4.886818   \n",
       "75%    693.250000  7.000000e+05  113.000000    4.000000    4.922337   \n",
       "max    924.000000  5.950000e+06  623.000000   14.000000    5.029122   \n",
       "\n",
       "              Lat  \n",
       "count  924.000000  \n",
       "mean    52.363326  \n",
       "std      0.024028  \n",
       "min     52.291519  \n",
       "25%     52.352077  \n",
       "50%     52.364631  \n",
       "75%     52.377598  \n",
       "max     52.423805  "
      ]
     },
     "execution_count": 5,
     "metadata": {},
     "output_type": "execute_result"
    }
   ],
   "source": [
    "df.describe()"
   ]
  },
  {
   "cell_type": "code",
   "execution_count": 6,
   "id": "b88e58c7",
   "metadata": {},
   "outputs": [
    {
     "name": "stdout",
     "output_type": "stream",
     "text": [
      "<class 'pandas.core.frame.DataFrame'>\n",
      "RangeIndex: 924 entries, 0 to 923\n",
      "Data columns (total 8 columns):\n",
      " #   Column      Non-Null Count  Dtype  \n",
      "---  ------      --------------  -----  \n",
      " 0   Unnamed: 0  924 non-null    int64  \n",
      " 1   Address     924 non-null    object \n",
      " 2   Zip         924 non-null    object \n",
      " 3   Price       920 non-null    float64\n",
      " 4   Area        924 non-null    int64  \n",
      " 5   Room        924 non-null    int64  \n",
      " 6   Lon         924 non-null    float64\n",
      " 7   Lat         924 non-null    float64\n",
      "dtypes: float64(3), int64(3), object(2)\n",
      "memory usage: 57.9+ KB\n"
     ]
    }
   ],
   "source": [
    "df.info()"
   ]
  },
  {
   "cell_type": "markdown",
   "id": "0ec026e9",
   "metadata": {},
   "source": [
    "# Data Exploration"
   ]
  },
  {
   "cell_type": "code",
   "execution_count": 7,
   "id": "1fc05602",
   "metadata": {},
   "outputs": [],
   "source": [
    "# Removing unnecessory column\n",
    "\n",
    "df = df.drop(columns=['Unnamed: 0'])"
   ]
  },
  {
   "cell_type": "code",
   "execution_count": 8,
   "id": "63520e09",
   "metadata": {},
   "outputs": [
    {
     "data": {
      "text/plain": [
       "Address    0\n",
       "Zip        0\n",
       "Price      4\n",
       "Area       0\n",
       "Room       0\n",
       "Lon        0\n",
       "Lat        0\n",
       "dtype: int64"
      ]
     },
     "execution_count": 8,
     "metadata": {},
     "output_type": "execute_result"
    }
   ],
   "source": [
    "# Checking null values\n",
    "\n",
    "df.isnull().sum()"
   ]
  },
  {
   "cell_type": "code",
   "execution_count": 9,
   "id": "7474e9e3",
   "metadata": {},
   "outputs": [
    {
     "data": {
      "text/plain": [
       "<Axes: >"
      ]
     },
     "execution_count": 9,
     "metadata": {},
     "output_type": "execute_result"
    },
    {
     "data": {
      "image/png": "[encoded data removed]",
      "text/plain": [
       "<Figure size 640x480 with 1 Axes>"
      ]
     },
     "metadata": {},
     "output_type": "display_data"
    }
   ],
   "source": [
    "sns.heatmap(df.isnull(),yticklabels=False,cbar=False,cmap='viridis')"
   ]
  },
  {
   "cell_type": "markdown",
   "id": "9e3e5b33",
   "metadata": {},
   "source": [
    "###### Price Column contains null values."
   ]
  },
  {
   "cell_type": "code",
   "execution_count": 10,
   "id": "d8900686",
   "metadata": {},
   "outputs": [
    {
     "data": {
      "image/png": "[encoded data removed]",
      "text/plain": [
       "<Figure size 1000x600 with 1 Axes>"
      ]
     },
     "metadata": {},
     "output_type": "display_data"
    }
   ],
   "source": [
    "plt.figure(figsize=(10, 6))\n",
    "sns.histplot(df['Price'], bins=30, kde=True, color='blue')\n",
    "plt.title('Distribution of House Prices')\n",
    "plt.xlabel('Price')\n",
    "plt.ylabel('Frequency')\n",
    "plt.show()"
   ]
  },
  {
   "cell_type": "markdown",
   "id": "fc6e013c",
   "metadata": {},
   "source": [
    "###### "
   ]
  },
  {
   "cell_type": "code",
   "execution_count": 11,
   "id": "49955682",
   "metadata": {},
   "outputs": [
    {
     "data": {
      "image/png": "[encoded data removed]",
      "text/plain": [
       "<Figure size 1000x600 with 1 Axes>"
      ]
     },
     "metadata": {},
     "output_type": "display_data"
    },
    {
     "data": {
      "image/png": "[encoded data removed]",
      "text/plain": [
       "<Figure size 1000x600 with 1 Axes>"
      ]
     },
     "metadata": {},
     "output_type": "display_data"
    }
   ],
   "source": [
    "numerical_features = ['Area', 'Room']\n",
    "for feature in numerical_features:\n",
    "    plt.figure(figsize=(10, 6))\n",
    "    sns.histplot(df[feature], bins=30, kde=True, color='green')\n",
    "    plt.title(f'Distribution of {feature}')\n",
    "    plt.xlabel(feature)\n",
    "    plt.ylabel('Frequency')\n",
    "    plt.show()"
   ]
  },
  {
   "cell_type": "code",
   "execution_count": 12,
   "id": "6c978cae",
   "metadata": {},
   "outputs": [
    {
     "data": {
      "image/png": "[encoded data removed]",
      "text/plain": [
       "<Figure size 1000x600 with 1 Axes>"
      ]
     },
     "metadata": {},
     "output_type": "display_data"
    }
   ],
   "source": [
    "plt.figure(figsize=(10, 6))\n",
    "sns.boxplot(x='Room', y='Price', data=df)\n",
    "plt.title('House Prices by Number of Rooms')\n",
    "plt.xlabel('Number of Rooms')\n",
    "plt.ylabel('Price')\n",
    "plt.show()"
   ]
  },
  {
   "cell_type": "code",
   "execution_count": 13,
   "id": "7f2571bd",
   "metadata": {},
   "outputs": [
    {
     "name": "stderr",
     "output_type": "stream",
     "text": [
      "C:\\Users\\Zia Saab\\AppData\\Local\\Temp\\ipykernel_13612\\1008261211.py:2: FutureWarning: The default value of numeric_only in DataFrame.corr is deprecated. In a future version, it will default to False. Select only valid columns or specify the value of numeric_only to silence this warning.\n",
      "  sns.heatmap(df.corr(), annot=True, cmap='coolwarm', fmt=\".2f\")\n"
     ]
    },
    {
     "data": {
      "image/png": "[encoded data removed]",
      "text/plain": [
       "<Figure size 1000x600 with 2 Axes>"
      ]
     },
     "metadata": {},
     "output_type": "display_data"
    }
   ],
   "source": [
    "plt.figure(figsize=(10, 6))\n",
    "sns.heatmap(df.corr(), annot=True, cmap='coolwarm', fmt=\".2f\")\n",
    "plt.title('Correlation Matrix')\n",
    "plt.show()"
   ]
  },
  {
   "cell_type": "code",
   "execution_count": 14,
   "id": "2fc0e25a",
   "metadata": {},
   "outputs": [
    {
     "data": {
      "text/html": [
       "<div style=\"width:100%;\"><div style=\"position:relative;width:100%;height:0;padding-bottom:60%;\"><span style=\"color:#565656\">Make this Notebook Trusted to load map: File -> Trust Notebook</span><iframe srcdoc=\"&lt;!DOCTYPE html&gt;\n",
       "&lt;html&gt;\n",
       "&lt;head&gt;\n",
       "    \n",
       "    &lt;meta http-equiv=&quot;content-type&quot; content=&quot;text/html; charset=UTF-8&quot; /&gt;\n",
       "    \n",
       "        &lt;script&gt;\n",
       "            L_NO_TOUCH = false;\n",
       "            L_DISABLE_3D = false;\n",
       "        &lt;/script&gt;\n",
       "    \n",
       "    &lt;style&gt;html, body {width: 100%;height: 100%;margin: 0;padding: 0;}&lt;/style&gt;\n",
       "    &lt;style&gt;#map {position:absolute;top:0;bottom:0;right:0;left:0;}&lt;/style&gt;\n",
       "    &lt;script src=&quot;https://cdn.jsdelivr.net/npm/leaflet@1.9.3/dist/leaflet.js&quot;&gt;&lt;/script&gt;\n",
       "    &lt;script src=&quot;https://code.jquery.com/jquery-1.12.4.min.js&quot;&gt;&lt;/script&gt;\n",
       "    &lt;script src=&quot;https://cdn.jsdelivr.net/npm/bootstrap@5.2.2/dist/js/bootstrap.bundle.min.js&quot;&gt;&lt;/script&gt;\n",
       "    &lt;script src=&quot;https://cdnjs.cloudflare.com/ajax/libs/Leaflet.awesome-markers/2.0.2/leaflet.awesome-markers.js&quot;&gt;&lt;/script&gt;\n",
       "    &lt;link rel=&quot;stylesheet&quot; href=&quot;https://cdn.jsdelivr.net/npm/leaflet@1.9.3/dist/leaflet.css&quot;/&gt;\n",
       "    &lt;link rel=&quot;stylesheet&quot; href=&quot;https://cdn.jsdelivr.net/npm/bootstrap@5.2.2/dist/css/bootstrap.min.css&quot;/&gt;\n",
       "    &lt;link rel=&quot;stylesheet&quot; href=&quot;https://netdna.bootstrapcdn.com/bootstrap/3.0.0/css/bootstrap.min.css&quot;/&gt;\n",
       "    &lt;link rel=&quot;stylesheet&quot; href=&quot;https://cdn.jsdelivr.net/npm/@fortawesome/fontawesome-free@6.2.0/css/all.min.css&quot;/&gt;\n",
       "    &lt;link rel=&quot;stylesheet&quot; href=&quot;https://cdnjs.cloudflare.com/ajax/libs/Leaflet.awesome-markers/2.0.2/leaflet.awesome-markers.css&quot;/&gt;\n",
       "    &lt;link rel=&quot;stylesheet&quot; href=&quot;https://cdn.jsdelivr.net/gh/python-visualization/folium/folium/templates/leaflet.awesome.rotate.min.css&quot;/&gt;\n",
       "    \n",
       "            &lt;meta name=&quot;viewport&quot; content=&quot;width=device-width,\n",
       "                initial-scale=1.0, maximum-scale=1.0, user-scalable=no&quot; /&gt;\n",
       "            &lt;style&gt;\n",
       "                #map_8146e42ac47ffec249d9af083336c4ed {\n",
       "                    position: relative;\n",
       "                    width: 100.0%;\n",
       "                    height: 100.0%;\n",
       "                    left: 0.0%;\n",
       "                    top: 0.0%;\n",
       "                }\n",
       "                .leaflet-container { font-size: 1rem; }\n",
       "            &lt;/style&gt;\n",
       "        \n",
       "&lt;/head&gt;\n",
       "&lt;body&gt;\n",
       "    \n",
       "    \n",
       "            &lt;div class=&quot;folium-map&quot; id=&quot;map_8146e42ac47ffec249d9af083336c4ed&quot; &gt;&lt;/div&gt;\n",
       "        \n",
       "&lt;/body&gt;\n",
       "&lt;script&gt;\n",
       "    \n",
       "    \n",
       "            var map_8146e42ac47ffec249d9af083336c4ed = L.map(\n",
       "                &quot;map_8146e42ac47ffec249d9af083336c4ed&quot;,\n",
       "                {\n",
       "                    center: [52.3667, 4.8945],\n",
       "                    crs: L.CRS.EPSG3857,\n",
       "                    zoom: 12,\n",
       "                    zoomControl: true,\n",
       "                    preferCanvas: false,\n",
       "                }\n",
       "            );\n",
       "\n",
       "            \n",
       "\n",
       "        \n",
       "    \n",
       "            var tile_layer_f922a338b728ccae80958f25dc541c67 = L.tileLayer(\n",
       "                &quot;https://{s}.tile.openstreetmap.org/{z}/{x}/{y}.png&quot;,\n",
       "                {&quot;attribution&quot;: &quot;Data by \\u0026copy; \\u003ca target=\\&quot;_blank\\&quot; href=\\&quot;http://openstreetmap.org\\&quot;\\u003eOpenStreetMap\\u003c/a\\u003e, under \\u003ca target=\\&quot;_blank\\&quot; href=\\&quot;http://www.openstreetmap.org/copyright\\&quot;\\u003eODbL\\u003c/a\\u003e.&quot;, &quot;detectRetina&quot;: false, &quot;maxNativeZoom&quot;: 18, &quot;maxZoom&quot;: 18, &quot;minZoom&quot;: 0, &quot;noWrap&quot;: false, &quot;opacity&quot;: 1, &quot;subdomains&quot;: &quot;abc&quot;, &quot;tms&quot;: false}\n",
       "            ).addTo(map_8146e42ac47ffec249d9af083336c4ed);\n",
       "        \n",
       "    \n",
       "            var marker_6e77c7abdf7676a28521d438b08d6a0c = L.marker(\n",
       "                [52.365078, 4.887378],\n",
       "                {}\n",
       "            ).addTo(map_8146e42ac47ffec249d9af083336c4ed);\n",
       "        \n",
       "    \n",
       "            var icon_1846d1ba6f8cac57ce123e9f6d08d08d = L.AwesomeMarkers.icon(\n",
       "                {&quot;extraClasses&quot;: &quot;fa-rotate-0&quot;, &quot;icon&quot;: &quot;info-sign&quot;, &quot;iconColor&quot;: &quot;white&quot;, &quot;markerColor&quot;: &quot;red&quot;, &quot;prefix&quot;: &quot;glyphicon&quot;}\n",
       "            );\n",
       "            marker_6e77c7abdf7676a28521d438b08d6a0c.setIcon(icon_1846d1ba6f8cac57ce123e9f6d08d08d);\n",
       "        \n",
       "    \n",
       "        var popup_2ba6483a26ca5488e4b1ae3965cf4dee = L.popup({&quot;maxWidth&quot;: &quot;100%&quot;});\n",
       "\n",
       "        \n",
       "            \n",
       "                var html_4dfe026e063540ff1ffb5de53c9e5a07 = $(`&lt;div id=&quot;html_4dfe026e063540ff1ffb5de53c9e5a07&quot; style=&quot;width: 100.0%; height: 100.0%;&quot;&gt;Address: Keizersgracht 544, Amsterdam&lt;br&gt;Price: €5950K&lt;/div&gt;`)[0];\n",
       "                popup_2ba6483a26ca5488e4b1ae3965cf4dee.setContent(html_4dfe026e063540ff1ffb5de53c9e5a07);\n",
       "            \n",
       "        \n",
       "\n",
       "        marker_6e77c7abdf7676a28521d438b08d6a0c.bindPopup(popup_2ba6483a26ca5488e4b1ae3965cf4dee)\n",
       "        ;\n",
       "\n",
       "        \n",
       "    \n",
       "    \n",
       "            var marker_cc7bb68b67f7ba76f869becb1eba3a79 = L.marker(\n",
       "                [52.354874, 4.863729],\n",
       "                {}\n",
       "            ).addTo(map_8146e42ac47ffec249d9af083336c4ed);\n",
       "        \n",
       "    \n",
       "            var icon_8e582c4c82afed1aadbc083207e0305f = L.AwesomeMarkers.icon(\n",
       "                {&quot;extraClasses&quot;: &quot;fa-rotate-0&quot;, &quot;icon&quot;: &quot;info-sign&quot;, &quot;iconColor&quot;: &quot;white&quot;, &quot;markerColor&quot;: &quot;red&quot;, &quot;prefix&quot;: &quot;glyphicon&quot;}\n",
       "            );\n",
       "            marker_cc7bb68b67f7ba76f869becb1eba3a79.setIcon(icon_8e582c4c82afed1aadbc083207e0305f);\n",
       "        \n",
       "    \n",
       "        var popup_e7fa4c207211d2054e13408fa19a3813 = L.popup({&quot;maxWidth&quot;: &quot;100%&quot;});\n",
       "\n",
       "        \n",
       "            \n",
       "                var html_7f5c06ae5ae81b19c5fb40e222eaa84c = $(`&lt;div id=&quot;html_7f5c06ae5ae81b19c5fb40e222eaa84c&quot; style=&quot;width: 100.0%; height: 100.0%;&quot;&gt;Address: Oranje Nassaulaan 9, Amsterdam&lt;br&gt;Price: €5850K&lt;/div&gt;`)[0];\n",
       "                popup_e7fa4c207211d2054e13408fa19a3813.setContent(html_7f5c06ae5ae81b19c5fb40e222eaa84c);\n",
       "            \n",
       "        \n",
       "\n",
       "        marker_cc7bb68b67f7ba76f869becb1eba3a79.bindPopup(popup_e7fa4c207211d2054e13408fa19a3813)\n",
       "        ;\n",
       "\n",
       "        \n",
       "    \n",
       "    \n",
       "            var marker_3754a2fd410e8e6d728f2aaba2bcac05 = L.marker(\n",
       "                [52.371039, 4.887869],\n",
       "                {}\n",
       "            ).addTo(map_8146e42ac47ffec249d9af083336c4ed);\n",
       "        \n",
       "    \n",
       "            var icon_0b650e390be82521a34e6767e004c4ef = L.AwesomeMarkers.icon(\n",
       "                {&quot;extraClasses&quot;: &quot;fa-rotate-0&quot;, &quot;icon&quot;: &quot;info-sign&quot;, &quot;iconColor&quot;: &quot;white&quot;, &quot;markerColor&quot;: &quot;red&quot;, &quot;prefix&quot;: &quot;glyphicon&quot;}\n",
       "            );\n",
       "            marker_3754a2fd410e8e6d728f2aaba2bcac05.setIcon(icon_0b650e390be82521a34e6767e004c4ef);\n",
       "        \n",
       "    \n",
       "        var popup_b3659c6eb49a0c37d6f7002c920eee7c = L.popup({&quot;maxWidth&quot;: &quot;100%&quot;});\n",
       "\n",
       "        \n",
       "            \n",
       "                var html_c24ba562202b1ce2c305c9b19a59d46c = $(`&lt;div id=&quot;html_c24ba562202b1ce2c305c9b19a59d46c&quot; style=&quot;width: 100.0%; height: 100.0%;&quot;&gt;Address: Singel 318, Amsterdam&lt;br&gt;Price: €4900K&lt;/div&gt;`)[0];\n",
       "                popup_b3659c6eb49a0c37d6f7002c920eee7c.setContent(html_c24ba562202b1ce2c305c9b19a59d46c);\n",
       "            \n",
       "        \n",
       "\n",
       "        marker_3754a2fd410e8e6d728f2aaba2bcac05.bindPopup(popup_b3659c6eb49a0c37d6f7002c920eee7c)\n",
       "        ;\n",
       "\n",
       "        \n",
       "    \n",
       "    \n",
       "            var marker_17586f690aa51db6a556d3094e415adb = L.marker(\n",
       "                [52.358798, 4.89862],\n",
       "                {}\n",
       "            ).addTo(map_8146e42ac47ffec249d9af083336c4ed);\n",
       "        \n",
       "    \n",
       "            var icon_77b1fd282639a55cdff21004d02cc156 = L.AwesomeMarkers.icon(\n",
       "                {&quot;extraClasses&quot;: &quot;fa-rotate-0&quot;, &quot;icon&quot;: &quot;info-sign&quot;, &quot;iconColor&quot;: &quot;white&quot;, &quot;markerColor&quot;: &quot;red&quot;, &quot;prefix&quot;: &quot;glyphicon&quot;}\n",
       "            );\n",
       "            marker_17586f690aa51db6a556d3094e415adb.setIcon(icon_77b1fd282639a55cdff21004d02cc156);\n",
       "        \n",
       "    \n",
       "        var popup_c26735d1cb3c524ad8fcf3573d2b564d = L.popup({&quot;maxWidth&quot;: &quot;100%&quot;});\n",
       "\n",
       "        \n",
       "            \n",
       "                var html_efdd39fb51f34367499b51927f1a643e = $(`&lt;div id=&quot;html_efdd39fb51f34367499b51927f1a643e&quot; style=&quot;width: 100.0%; height: 100.0%;&quot;&gt;Address: Westeinde 16, Amsterdam&lt;br&gt;Price: €4550K&lt;/div&gt;`)[0];\n",
       "                popup_c26735d1cb3c524ad8fcf3573d2b564d.setContent(html_efdd39fb51f34367499b51927f1a643e);\n",
       "            \n",
       "        \n",
       "\n",
       "        marker_17586f690aa51db6a556d3094e415adb.bindPopup(popup_c26735d1cb3c524ad8fcf3573d2b564d)\n",
       "        ;\n",
       "\n",
       "        \n",
       "    \n",
       "    \n",
       "            var marker_ac56e24370f2a31a5c65d770a6daa897 = L.marker(\n",
       "                [52.373106, 4.89429],\n",
       "                {}\n",
       "            ).addTo(map_8146e42ac47ffec249d9af083336c4ed);\n",
       "        \n",
       "    \n",
       "            var icon_fff4fa18e58132db6282128f2010d461 = L.AwesomeMarkers.icon(\n",
       "                {&quot;extraClasses&quot;: &quot;fa-rotate-0&quot;, &quot;icon&quot;: &quot;info-sign&quot;, &quot;iconColor&quot;: &quot;white&quot;, &quot;markerColor&quot;: &quot;red&quot;, &quot;prefix&quot;: &quot;glyphicon&quot;}\n",
       "            );\n",
       "            marker_ac56e24370f2a31a5c65d770a6daa897.setIcon(icon_fff4fa18e58132db6282128f2010d461);\n",
       "        \n",
       "    \n",
       "        var popup_5098ada98c20e6052a07cbf2d2276f64 = L.popup({&quot;maxWidth&quot;: &quot;100%&quot;});\n",
       "\n",
       "        \n",
       "            \n",
       "                var html_f7f302c5d19d5226bc0b2f75895da3ff = $(`&lt;div id=&quot;html_f7f302c5d19d5226bc0b2f75895da3ff&quot; style=&quot;width: 100.0%; height: 100.0%;&quot;&gt;Address: Dam 5 V, Amsterdam&lt;br&gt;Price: €4495K&lt;/div&gt;`)[0];\n",
       "                popup_5098ada98c20e6052a07cbf2d2276f64.setContent(html_f7f302c5d19d5226bc0b2f75895da3ff);\n",
       "            \n",
       "        \n",
       "\n",
       "        marker_ac56e24370f2a31a5c65d770a6daa897.bindPopup(popup_5098ada98c20e6052a07cbf2d2276f64)\n",
       "        ;\n",
       "\n",
       "        \n",
       "    \n",
       "    \n",
       "            var marker_07e0986da8ebd7dfc0b91465c15a22eb = L.marker(\n",
       "                [52.361571, 4.875471],\n",
       "                {}\n",
       "            ).addTo(map_8146e42ac47ffec249d9af083336c4ed);\n",
       "        \n",
       "    \n",
       "            var icon_fd878ce2305028fc47e9b10f521cfacd = L.AwesomeMarkers.icon(\n",
       "                {&quot;extraClasses&quot;: &quot;fa-rotate-0&quot;, &quot;icon&quot;: &quot;info-sign&quot;, &quot;iconColor&quot;: &quot;white&quot;, &quot;markerColor&quot;: &quot;red&quot;, &quot;prefix&quot;: &quot;glyphicon&quot;}\n",
       "            );\n",
       "            marker_07e0986da8ebd7dfc0b91465c15a22eb.setIcon(icon_fd878ce2305028fc47e9b10f521cfacd);\n",
       "        \n",
       "    \n",
       "        var popup_4c6e755b55175b6bdcfafc64dcbe0863 = L.popup({&quot;maxWidth&quot;: &quot;100%&quot;});\n",
       "\n",
       "        \n",
       "            \n",
       "                var html_fbd195a048d6915420a3b11d6ed54ccd = $(`&lt;div id=&quot;html_fbd195a048d6915420a3b11d6ed54ccd&quot; style=&quot;width: 100.0%; height: 100.0%;&quot;&gt;Address: Vondelstraat 51 hs, Amsterdam&lt;br&gt;Price: €3925K&lt;/div&gt;`)[0];\n",
       "                popup_4c6e755b55175b6bdcfafc64dcbe0863.setContent(html_fbd195a048d6915420a3b11d6ed54ccd);\n",
       "            \n",
       "        \n",
       "\n",
       "        marker_07e0986da8ebd7dfc0b91465c15a22eb.bindPopup(popup_4c6e755b55175b6bdcfafc64dcbe0863)\n",
       "        ;\n",
       "\n",
       "        \n",
       "    \n",
       "    \n",
       "            var marker_0d902e122309430dabd977da63e9d472 = L.marker(\n",
       "                [52.385321, 4.905695],\n",
       "                {}\n",
       "            ).addTo(map_8146e42ac47ffec249d9af083336c4ed);\n",
       "        \n",
       "    \n",
       "            var icon_f94496aa35d0554ff3e0f9a9f467f79f = L.AwesomeMarkers.icon(\n",
       "                {&quot;extraClasses&quot;: &quot;fa-rotate-0&quot;, &quot;icon&quot;: &quot;info-sign&quot;, &quot;iconColor&quot;: &quot;white&quot;, &quot;markerColor&quot;: &quot;red&quot;, &quot;prefix&quot;: &quot;glyphicon&quot;}\n",
       "            );\n",
       "            marker_0d902e122309430dabd977da63e9d472.setIcon(icon_f94496aa35d0554ff3e0f9a9f467f79f);\n",
       "        \n",
       "    \n",
       "        var popup_1fb6805f454e233111d8f4ecca714809 = L.popup({&quot;maxWidth&quot;: &quot;100%&quot;});\n",
       "\n",
       "        \n",
       "            \n",
       "                var html_4a02905a072e0249e21ef8a5e1e7a884 = $(`&lt;div id=&quot;html_4a02905a072e0249e21ef8a5e1e7a884&quot; style=&quot;width: 100.0%; height: 100.0%;&quot;&gt;Address: Badhuiskade 353, Amsterdam&lt;br&gt;Price: €3680K&lt;/div&gt;`)[0];\n",
       "                popup_1fb6805f454e233111d8f4ecca714809.setContent(html_4a02905a072e0249e21ef8a5e1e7a884);\n",
       "            \n",
       "        \n",
       "\n",
       "        marker_0d902e122309430dabd977da63e9d472.bindPopup(popup_1fb6805f454e233111d8f4ecca714809)\n",
       "        ;\n",
       "\n",
       "        \n",
       "    \n",
       "    \n",
       "            var marker_d8e50582fcf8133907d5b8982d491d49 = L.marker(\n",
       "                [52.352366, 4.857608],\n",
       "                {}\n",
       "            ).addTo(map_8146e42ac47ffec249d9af083336c4ed);\n",
       "        \n",
       "    \n",
       "            var icon_9ecfcdb245910cdd0b07a277d987509d = L.AwesomeMarkers.icon(\n",
       "                {&quot;extraClasses&quot;: &quot;fa-rotate-0&quot;, &quot;icon&quot;: &quot;info-sign&quot;, &quot;iconColor&quot;: &quot;white&quot;, &quot;markerColor&quot;: &quot;red&quot;, &quot;prefix&quot;: &quot;glyphicon&quot;}\n",
       "            );\n",
       "            marker_d8e50582fcf8133907d5b8982d491d49.setIcon(icon_9ecfcdb245910cdd0b07a277d987509d);\n",
       "        \n",
       "    \n",
       "        var popup_5158898cdd1e81bbde244e31db6f29b3 = L.popup({&quot;maxWidth&quot;: &quot;100%&quot;});\n",
       "\n",
       "        \n",
       "            \n",
       "                var html_0c5c8a75943e82995ae66f8016687621 = $(`&lt;div id=&quot;html_0c5c8a75943e82995ae66f8016687621&quot; style=&quot;width: 100.0%; height: 100.0%;&quot;&gt;Address: Sophialaan 45, Amsterdam&lt;br&gt;Price: €3500K&lt;/div&gt;`)[0];\n",
       "                popup_5158898cdd1e81bbde244e31db6f29b3.setContent(html_0c5c8a75943e82995ae66f8016687621);\n",
       "            \n",
       "        \n",
       "\n",
       "        marker_d8e50582fcf8133907d5b8982d491d49.bindPopup(popup_5158898cdd1e81bbde244e31db6f29b3)\n",
       "        ;\n",
       "\n",
       "        \n",
       "    \n",
       "    \n",
       "            var marker_2aed00f603091a7d300f8318f8088ce4 = L.marker(\n",
       "                [52.375532, 4.889816],\n",
       "                {}\n",
       "            ).addTo(map_8146e42ac47ffec249d9af083336c4ed);\n",
       "        \n",
       "    \n",
       "            var icon_c83c3e1920aa234cb1cbc620f9dc00ae = L.AwesomeMarkers.icon(\n",
       "                {&quot;extraClasses&quot;: &quot;fa-rotate-0&quot;, &quot;icon&quot;: &quot;info-sign&quot;, &quot;iconColor&quot;: &quot;white&quot;, &quot;markerColor&quot;: &quot;red&quot;, &quot;prefix&quot;: &quot;glyphicon&quot;}\n",
       "            );\n",
       "            marker_2aed00f603091a7d300f8318f8088ce4.setIcon(icon_c83c3e1920aa234cb1cbc620f9dc00ae);\n",
       "        \n",
       "    \n",
       "        var popup_efdd4d466441dc0f18eb14fd07cfb1d7 = L.popup({&quot;maxWidth&quot;: &quot;100%&quot;});\n",
       "\n",
       "        \n",
       "            \n",
       "                var html_00182da980ed4107756ced8cac92eba2 = $(`&lt;div id=&quot;html_00182da980ed4107756ced8cac92eba2&quot; style=&quot;width: 100.0%; height: 100.0%;&quot;&gt;Address: Singel 146 A, Amsterdam&lt;br&gt;Price: €3500K&lt;/div&gt;`)[0];\n",
       "                popup_efdd4d466441dc0f18eb14fd07cfb1d7.setContent(html_00182da980ed4107756ced8cac92eba2);\n",
       "            \n",
       "        \n",
       "\n",
       "        marker_2aed00f603091a7d300f8318f8088ce4.bindPopup(popup_efdd4d466441dc0f18eb14fd07cfb1d7)\n",
       "        ;\n",
       "\n",
       "        \n",
       "    \n",
       "    \n",
       "            var marker_ec2d3ca709d7a946acb459a4ed76b837 = L.marker(\n",
       "                [52.349528, 4.862413],\n",
       "                {}\n",
       "            ).addTo(map_8146e42ac47ffec249d9af083336c4ed);\n",
       "        \n",
       "    \n",
       "            var icon_d0a39027656197a7b1a55c2ad817805a = L.AwesomeMarkers.icon(\n",
       "                {&quot;extraClasses&quot;: &quot;fa-rotate-0&quot;, &quot;icon&quot;: &quot;info-sign&quot;, &quot;iconColor&quot;: &quot;white&quot;, &quot;markerColor&quot;: &quot;red&quot;, &quot;prefix&quot;: &quot;glyphicon&quot;}\n",
       "            );\n",
       "            marker_ec2d3ca709d7a946acb459a4ed76b837.setIcon(icon_d0a39027656197a7b1a55c2ad817805a);\n",
       "        \n",
       "    \n",
       "        var popup_0d1919978a63ccf0b15aa57da0adc89e = L.popup({&quot;maxWidth&quot;: &quot;100%&quot;});\n",
       "\n",
       "        \n",
       "            \n",
       "                var html_c6ea7ee8fcf787810319a9f8eb207f82 = $(`&lt;div id=&quot;html_c6ea7ee8fcf787810319a9f8eb207f82&quot; style=&quot;width: 100.0%; height: 100.0%;&quot;&gt;Address: Olympiakade 12, Amsterdam&lt;br&gt;Price: €2750K&lt;/div&gt;`)[0];\n",
       "                popup_0d1919978a63ccf0b15aa57da0adc89e.setContent(html_c6ea7ee8fcf787810319a9f8eb207f82);\n",
       "            \n",
       "        \n",
       "\n",
       "        marker_ec2d3ca709d7a946acb459a4ed76b837.bindPopup(popup_0d1919978a63ccf0b15aa57da0adc89e)\n",
       "        ;\n",
       "\n",
       "        \n",
       "    \n",
       "&lt;/script&gt;\n",
       "&lt;/html&gt;\" style=\"position:absolute;width:100%;height:100%;left:0;top:0;border:none !important;\" allowfullscreen webkitallowfullscreen mozallowfullscreen></iframe></div></div>"
      ],
      "text/plain": [
       "<folium.folium.Map at 0x1cec92385d0>"
      ]
     },
     "execution_count": 14,
     "metadata": {},
     "output_type": "execute_result"
    }
   ],
   "source": [
    "import folium\n",
    "# Sort the DataFrame by price in descending order and select the top 10 highest-priced addresses\n",
    "top_10_highest_priced = df.nlargest(10, 'Price')\n",
    "\n",
    "# Create a Folium Map centered around Amsterdam\n",
    "map_amsterdam = folium.Map(location=[52.3667, 4.8945], zoom_start=12)\n",
    "\n",
    "# Add markers for the top 10 highest-priced addresses\n",
    "for index, row in top_10_highest_priced.iterrows():\n",
    "    # Format price in thousands\n",
    "    price_in_thousands = row['Price'] / 1000\n",
    "    popup_text = f\"Address: {row['Address']}<br>Price: €{price_in_thousands:.0f}K\"\n",
    "    \n",
    "    folium.Marker(location=[row['Lat'], row['Lon']],\n",
    "                  popup=popup_text,\n",
    "                  icon=folium.Icon(color='red')).add_to(map_amsterdam)\n",
    "\n",
    "# Display the map\n",
    "map_amsterdam.save('top_10_highest_priced_addresses.html')\n",
    "map_amsterdam"
   ]
  },
  {
   "cell_type": "markdown",
   "id": "406a15ae",
   "metadata": {},
   "source": [
    "# Data Preprocessing"
   ]
  },
  {
   "cell_type": "code",
   "execution_count": 15,
   "id": "40599f31",
   "metadata": {},
   "outputs": [],
   "source": [
    "# Removing Null values\n",
    "\n",
    "df = df.dropna(subset=['Price'])"
   ]
  },
  {
   "cell_type": "code",
   "execution_count": 16,
   "id": "b89f564f",
   "metadata": {},
   "outputs": [
    {
     "data": {
      "text/plain": [
       "<Axes: >"
      ]
     },
     "execution_count": 16,
     "metadata": {},
     "output_type": "execute_result"
    },
    {
     "data": {
      "image/png": "[encoded data removed]",
      "text/plain": [
       "<Figure size 640x480 with 1 Axes>"
      ]
     },
     "metadata": {},
     "output_type": "display_data"
    }
   ],
   "source": [
    "#Checking whether we have removed all null values or not.\n",
    "\n",
    "sns.heatmap(df.isnull(),yticklabels=False,cbar=False,cmap='viridis')"
   ]
  },
  {
   "cell_type": "markdown",
   "id": "5b7c0352",
   "metadata": {},
   "source": [
    "###### Null values are removed."
   ]
  },
  {
   "cell_type": "code",
   "execution_count": 17,
   "id": "19c3c6c9",
   "metadata": {},
   "outputs": [
    {
     "data": {
      "text/html": [
       "<div>\n",
       "<style scoped>\n",
       "    .dataframe tbody tr th:only-of-type {\n",
       "        vertical-align: middle;\n",
       "    }\n",
       "\n",
       "    .dataframe tbody tr th {\n",
       "        vertical-align: top;\n",
       "    }\n",
       "\n",
       "    .dataframe thead th {\n",
       "        text-align: right;\n",
       "    }\n",
       "</style>\n",
       "<table border=\"1\" class=\"dataframe\">\n",
       "  <thead>\n",
       "    <tr style=\"text-align: right;\">\n",
       "      <th></th>\n",
       "      <th>Address</th>\n",
       "      <th>Zip</th>\n",
       "      <th>Price</th>\n",
       "      <th>Area</th>\n",
       "      <th>Room</th>\n",
       "      <th>Lon</th>\n",
       "      <th>Lat</th>\n",
       "    </tr>\n",
       "  </thead>\n",
       "  <tbody>\n",
       "    <tr>\n",
       "      <th>0</th>\n",
       "      <td>Blasiusstraat 8 2, Amsterdam</td>\n",
       "      <td>1091 CR</td>\n",
       "      <td>685000.0</td>\n",
       "      <td>64</td>\n",
       "      <td>3</td>\n",
       "      <td>4.907736</td>\n",
       "      <td>52.356157</td>\n",
       "    </tr>\n",
       "    <tr>\n",
       "      <th>1</th>\n",
       "      <td>Kromme Leimuidenstraat 13 H, Amsterdam</td>\n",
       "      <td>1059 EL</td>\n",
       "      <td>475000.0</td>\n",
       "      <td>60</td>\n",
       "      <td>3</td>\n",
       "      <td>4.850476</td>\n",
       "      <td>52.348586</td>\n",
       "    </tr>\n",
       "    <tr>\n",
       "      <th>2</th>\n",
       "      <td>Zaaiersweg 11 A, Amsterdam</td>\n",
       "      <td>1097 SM</td>\n",
       "      <td>850000.0</td>\n",
       "      <td>109</td>\n",
       "      <td>4</td>\n",
       "      <td>4.944774</td>\n",
       "      <td>52.343782</td>\n",
       "    </tr>\n",
       "    <tr>\n",
       "      <th>3</th>\n",
       "      <td>Tenerifestraat 40, Amsterdam</td>\n",
       "      <td>1060 TH</td>\n",
       "      <td>580000.0</td>\n",
       "      <td>128</td>\n",
       "      <td>6</td>\n",
       "      <td>4.789928</td>\n",
       "      <td>52.343712</td>\n",
       "    </tr>\n",
       "    <tr>\n",
       "      <th>4</th>\n",
       "      <td>Winterjanpad 21, Amsterdam</td>\n",
       "      <td>1036 KN</td>\n",
       "      <td>720000.0</td>\n",
       "      <td>138</td>\n",
       "      <td>5</td>\n",
       "      <td>4.902503</td>\n",
       "      <td>52.410538</td>\n",
       "    </tr>\n",
       "    <tr>\n",
       "      <th>...</th>\n",
       "      <td>...</td>\n",
       "      <td>...</td>\n",
       "      <td>...</td>\n",
       "      <td>...</td>\n",
       "      <td>...</td>\n",
       "      <td>...</td>\n",
       "      <td>...</td>\n",
       "    </tr>\n",
       "    <tr>\n",
       "      <th>919</th>\n",
       "      <td>Ringdijk, Amsterdam</td>\n",
       "      <td>1097 AE</td>\n",
       "      <td>750000.0</td>\n",
       "      <td>117</td>\n",
       "      <td>1</td>\n",
       "      <td>4.927757</td>\n",
       "      <td>52.354173</td>\n",
       "    </tr>\n",
       "    <tr>\n",
       "      <th>920</th>\n",
       "      <td>Kleine Beerstraat 31, Amsterdam</td>\n",
       "      <td>1033 CP</td>\n",
       "      <td>350000.0</td>\n",
       "      <td>72</td>\n",
       "      <td>3</td>\n",
       "      <td>4.890612</td>\n",
       "      <td>52.414587</td>\n",
       "    </tr>\n",
       "    <tr>\n",
       "      <th>921</th>\n",
       "      <td>Stuyvesantstraat 33 II, Amsterdam</td>\n",
       "      <td>1058 AK</td>\n",
       "      <td>350000.0</td>\n",
       "      <td>51</td>\n",
       "      <td>3</td>\n",
       "      <td>4.856935</td>\n",
       "      <td>52.363256</td>\n",
       "    </tr>\n",
       "    <tr>\n",
       "      <th>922</th>\n",
       "      <td>John Blankensteinstraat 51, Amsterdam</td>\n",
       "      <td>1095 MB</td>\n",
       "      <td>599000.0</td>\n",
       "      <td>113</td>\n",
       "      <td>4</td>\n",
       "      <td>4.965731</td>\n",
       "      <td>52.375268</td>\n",
       "    </tr>\n",
       "    <tr>\n",
       "      <th>923</th>\n",
       "      <td>S. F. van Ossstraat 334, Amsterdam</td>\n",
       "      <td>1068 JS</td>\n",
       "      <td>300000.0</td>\n",
       "      <td>79</td>\n",
       "      <td>4</td>\n",
       "      <td>4.810678</td>\n",
       "      <td>52.355493</td>\n",
       "    </tr>\n",
       "  </tbody>\n",
       "</table>\n",
       "<p>891 rows × 7 columns</p>\n",
       "</div>"
      ],
      "text/plain": [
       "                                    Address      Zip     Price  Area  Room  \\\n",
       "0              Blasiusstraat 8 2, Amsterdam  1091 CR  685000.0    64     3   \n",
       "1    Kromme Leimuidenstraat 13 H, Amsterdam  1059 EL  475000.0    60     3   \n",
       "2                Zaaiersweg 11 A, Amsterdam  1097 SM  850000.0   109     4   \n",
       "3              Tenerifestraat 40, Amsterdam  1060 TH  580000.0   128     6   \n",
       "4                Winterjanpad 21, Amsterdam  1036 KN  720000.0   138     5   \n",
       "..                                      ...      ...       ...   ...   ...   \n",
       "919                     Ringdijk, Amsterdam  1097 AE  750000.0   117     1   \n",
       "920         Kleine Beerstraat 31, Amsterdam  1033 CP  350000.0    72     3   \n",
       "921       Stuyvesantstraat 33 II, Amsterdam  1058 AK  350000.0    51     3   \n",
       "922   John Blankensteinstraat 51, Amsterdam  1095 MB  599000.0   113     4   \n",
       "923      S. F. van Ossstraat 334, Amsterdam  1068 JS  300000.0    79     4   \n",
       "\n",
       "          Lon        Lat  \n",
       "0    4.907736  52.356157  \n",
       "1    4.850476  52.348586  \n",
       "2    4.944774  52.343782  \n",
       "3    4.789928  52.343712  \n",
       "4    4.902503  52.410538  \n",
       "..        ...        ...  \n",
       "919  4.927757  52.354173  \n",
       "920  4.890612  52.414587  \n",
       "921  4.856935  52.363256  \n",
       "922  4.965731  52.375268  \n",
       "923  4.810678  52.355493  \n",
       "\n",
       "[891 rows x 7 columns]"
      ]
     },
     "execution_count": 17,
     "metadata": {},
     "output_type": "execute_result"
    }
   ],
   "source": [
    "numerical_columns = ['Area', 'Room', 'Lon', 'Lat']\n",
    "for column in numerical_columns:\n",
    "    z_scores = zscore(df[column])\n",
    "    outliers = (z_scores > 3) | (z_scores < -3)\n",
    "    df = df[~outliers]\n",
    "df"
   ]
  },
  {
   "cell_type": "markdown",
   "id": "9c810443",
   "metadata": {},
   "source": [
    "# Feature Selection"
   ]
  },
  {
   "cell_type": "code",
   "execution_count": 18,
   "id": "c1bcbe5f",
   "metadata": {},
   "outputs": [],
   "source": [
    "selected_features = ['Area', 'Room', 'Lon', 'Lat']\n",
    "X = df[selected_features]\n",
    "y = df['Price']"
   ]
  },
  {
   "cell_type": "code",
   "execution_count": 19,
   "id": "e8555653",
   "metadata": {},
   "outputs": [
    {
     "data": {
      "text/html": [
       "<div>\n",
       "<style scoped>\n",
       "    .dataframe tbody tr th:only-of-type {\n",
       "        vertical-align: middle;\n",
       "    }\n",
       "\n",
       "    .dataframe tbody tr th {\n",
       "        vertical-align: top;\n",
       "    }\n",
       "\n",
       "    .dataframe thead th {\n",
       "        text-align: right;\n",
       "    }\n",
       "</style>\n",
       "<table border=\"1\" class=\"dataframe\">\n",
       "  <thead>\n",
       "    <tr style=\"text-align: right;\">\n",
       "      <th></th>\n",
       "      <th>Area</th>\n",
       "      <th>Room</th>\n",
       "      <th>Lon</th>\n",
       "      <th>Lat</th>\n",
       "    </tr>\n",
       "  </thead>\n",
       "  <tbody>\n",
       "    <tr>\n",
       "      <th>0</th>\n",
       "      <td>64</td>\n",
       "      <td>3</td>\n",
       "      <td>4.907736</td>\n",
       "      <td>52.356157</td>\n",
       "    </tr>\n",
       "    <tr>\n",
       "      <th>1</th>\n",
       "      <td>60</td>\n",
       "      <td>3</td>\n",
       "      <td>4.850476</td>\n",
       "      <td>52.348586</td>\n",
       "    </tr>\n",
       "    <tr>\n",
       "      <th>2</th>\n",
       "      <td>109</td>\n",
       "      <td>4</td>\n",
       "      <td>4.944774</td>\n",
       "      <td>52.343782</td>\n",
       "    </tr>\n",
       "    <tr>\n",
       "      <th>3</th>\n",
       "      <td>128</td>\n",
       "      <td>6</td>\n",
       "      <td>4.789928</td>\n",
       "      <td>52.343712</td>\n",
       "    </tr>\n",
       "    <tr>\n",
       "      <th>4</th>\n",
       "      <td>138</td>\n",
       "      <td>5</td>\n",
       "      <td>4.902503</td>\n",
       "      <td>52.410538</td>\n",
       "    </tr>\n",
       "    <tr>\n",
       "      <th>...</th>\n",
       "      <td>...</td>\n",
       "      <td>...</td>\n",
       "      <td>...</td>\n",
       "      <td>...</td>\n",
       "    </tr>\n",
       "    <tr>\n",
       "      <th>919</th>\n",
       "      <td>117</td>\n",
       "      <td>1</td>\n",
       "      <td>4.927757</td>\n",
       "      <td>52.354173</td>\n",
       "    </tr>\n",
       "    <tr>\n",
       "      <th>920</th>\n",
       "      <td>72</td>\n",
       "      <td>3</td>\n",
       "      <td>4.890612</td>\n",
       "      <td>52.414587</td>\n",
       "    </tr>\n",
       "    <tr>\n",
       "      <th>921</th>\n",
       "      <td>51</td>\n",
       "      <td>3</td>\n",
       "      <td>4.856935</td>\n",
       "      <td>52.363256</td>\n",
       "    </tr>\n",
       "    <tr>\n",
       "      <th>922</th>\n",
       "      <td>113</td>\n",
       "      <td>4</td>\n",
       "      <td>4.965731</td>\n",
       "      <td>52.375268</td>\n",
       "    </tr>\n",
       "    <tr>\n",
       "      <th>923</th>\n",
       "      <td>79</td>\n",
       "      <td>4</td>\n",
       "      <td>4.810678</td>\n",
       "      <td>52.355493</td>\n",
       "    </tr>\n",
       "  </tbody>\n",
       "</table>\n",
       "<p>891 rows × 4 columns</p>\n",
       "</div>"
      ],
      "text/plain": [
       "     Area  Room       Lon        Lat\n",
       "0      64     3  4.907736  52.356157\n",
       "1      60     3  4.850476  52.348586\n",
       "2     109     4  4.944774  52.343782\n",
       "3     128     6  4.789928  52.343712\n",
       "4     138     5  4.902503  52.410538\n",
       "..    ...   ...       ...        ...\n",
       "919   117     1  4.927757  52.354173\n",
       "920    72     3  4.890612  52.414587\n",
       "921    51     3  4.856935  52.363256\n",
       "922   113     4  4.965731  52.375268\n",
       "923    79     4  4.810678  52.355493\n",
       "\n",
       "[891 rows x 4 columns]"
      ]
     },
     "execution_count": 19,
     "metadata": {},
     "output_type": "execute_result"
    }
   ],
   "source": [
    "X"
   ]
  },
  {
   "cell_type": "code",
   "execution_count": 20,
   "id": "caa8fcfc",
   "metadata": {},
   "outputs": [
    {
     "data": {
      "text/plain": [
       "0      685000.0\n",
       "1      475000.0\n",
       "2      850000.0\n",
       "3      580000.0\n",
       "4      720000.0\n",
       "         ...   \n",
       "919    750000.0\n",
       "920    350000.0\n",
       "921    350000.0\n",
       "922    599000.0\n",
       "923    300000.0\n",
       "Name: Price, Length: 891, dtype: float64"
      ]
     },
     "execution_count": 20,
     "metadata": {},
     "output_type": "execute_result"
    }
   ],
   "source": [
    "y"
   ]
  },
  {
   "cell_type": "markdown",
   "id": "238322d7",
   "metadata": {},
   "source": [
    "# Model Selection"
   ]
  },
  {
   "cell_type": "code",
   "execution_count": 21,
   "id": "4b5d5f7c",
   "metadata": {},
   "outputs": [],
   "source": [
    "from sklearn.ensemble import RandomForestRegressor"
   ]
  },
  {
   "cell_type": "markdown",
   "id": "20bec6d7",
   "metadata": {},
   "source": [
    "# Data Split"
   ]
  },
  {
   "cell_type": "code",
   "execution_count": 22,
   "id": "8e9ef107",
   "metadata": {},
   "outputs": [],
   "source": [
    "from sklearn.model_selection import train_test_split\n",
    "\n",
    "X_train, X_test, y_train, y_test = train_test_split(X, y, test_size=0.2, random_state=42)"
   ]
  },
  {
   "cell_type": "markdown",
   "id": "274574e1",
   "metadata": {},
   "source": [
    "# Model Training"
   ]
  },
  {
   "cell_type": "code",
   "execution_count": 23,
   "id": "000daf8f",
   "metadata": {},
   "outputs": [
    {
     "data": {
      "text/html": [
       "<style>#sk-container-id-1 {color: black;}#sk-container-id-1 pre{padding: 0;}#sk-container-id-1 div.sk-toggleable {background-color: white;}#sk-container-id-1 label.sk-toggleable__label {cursor: pointer;display: block;width: 100%;margin-bottom: 0;padding: 0.3em;box-sizing: border-box;text-align: center;}#sk-container-id-1 label.sk-toggleable__label-arrow:before {content: \"▸\";float: left;margin-right: 0.25em;color: #696969;}#sk-container-id-1 label.sk-toggleable__label-arrow:hover:before {color: black;}#sk-container-id-1 div.sk-estimator:hover label.sk-toggleable__label-arrow:before {color: black;}#sk-container-id-1 div.sk-toggleable__content {max-height: 0;max-width: 0;overflow: hidden;text-align: left;background-color: #f0f8ff;}#sk-container-id-1 div.sk-toggleable__content pre {margin: 0.2em;color: black;border-radius: 0.25em;background-color: #f0f8ff;}#sk-container-id-1 input.sk-toggleable__control:checked~div.sk-toggleable__content {max-height: 200px;max-width: 100%;overflow: auto;}#sk-container-id-1 input.sk-toggleable__control:checked~label.sk-toggleable__label-arrow:before {content: \"▾\";}#sk-container-id-1 div.sk-estimator input.sk-toggleable__control:checked~label.sk-toggleable__label {background-color: #d4ebff;}#sk-container-id-1 div.sk-label input.sk-toggleable__control:checked~label.sk-toggleable__label {background-color: #d4ebff;}#sk-container-id-1 input.sk-hidden--visually {border: 0;clip: rect(1px 1px 1px 1px);clip: rect(1px, 1px, 1px, 1px);height: 1px;margin: -1px;overflow: hidden;padding: 0;position: absolute;width: 1px;}#sk-container-id-1 div.sk-estimator {font-family: monospace;background-color: #f0f8ff;border: 1px dotted black;border-radius: 0.25em;box-sizing: border-box;margin-bottom: 0.5em;}#sk-container-id-1 div.sk-estimator:hover {background-color: #d4ebff;}#sk-container-id-1 div.sk-parallel-item::after {content: \"\";width: 100%;border-bottom: 1px solid gray;flex-grow: 1;}#sk-container-id-1 div.sk-label:hover label.sk-toggleable__label {background-color: #d4ebff;}#sk-container-id-1 div.sk-serial::before {content: \"\";position: absolute;border-left: 1px solid gray;box-sizing: border-box;top: 0;bottom: 0;left: 50%;z-index: 0;}#sk-container-id-1 div.sk-serial {display: flex;flex-direction: column;align-items: center;background-color: white;padding-right: 0.2em;padding-left: 0.2em;position: relative;}#sk-container-id-1 div.sk-item {position: relative;z-index: 1;}#sk-container-id-1 div.sk-parallel {display: flex;align-items: stretch;justify-content: center;background-color: white;position: relative;}#sk-container-id-1 div.sk-item::before, #sk-container-id-1 div.sk-parallel-item::before {content: \"\";position: absolute;border-left: 1px solid gray;box-sizing: border-box;top: 0;bottom: 0;left: 50%;z-index: -1;}#sk-container-id-1 div.sk-parallel-item {display: flex;flex-direction: column;z-index: 1;position: relative;background-color: white;}#sk-container-id-1 div.sk-parallel-item:first-child::after {align-self: flex-end;width: 50%;}#sk-container-id-1 div.sk-parallel-item:last-child::after {align-self: flex-start;width: 50%;}#sk-container-id-1 div.sk-parallel-item:only-child::after {width: 0;}#sk-container-id-1 div.sk-dashed-wrapped {border: 1px dashed gray;margin: 0 0.4em 0.5em 0.4em;box-sizing: border-box;padding-bottom: 0.4em;background-color: white;}#sk-container-id-1 div.sk-label label {font-family: monospace;font-weight: bold;display: inline-block;line-height: 1.2em;}#sk-container-id-1 div.sk-label-container {text-align: center;}#sk-container-id-1 div.sk-container {/* jupyter's `normalize.less` sets `[hidden] { display: none; }` but bootstrap.min.css set `[hidden] { display: none !important; }` so we also need the `!important` here to be able to override the default hidden behavior on the sphinx rendered scikit-learn.org. See: https://github.com/scikit-learn/scikit-learn/issues/21755 */display: inline-block !important;position: relative;}#sk-container-id-1 div.sk-text-repr-fallback {display: none;}</style><div id=\"sk-container-id-1\" class=\"sk-top-container\"><div class=\"sk-text-repr-fallback\"><pre>RandomForestRegressor(random_state=42)</pre><b>In a Jupyter environment, please rerun this cell to show the HTML representation or trust the notebook. <br />On GitHub, the HTML representation is unable to render, please try loading this page with nbviewer.org.</b></div><div class=\"sk-container\" hidden><div class=\"sk-item\"><div class=\"sk-estimator sk-toggleable\"><input class=\"sk-toggleable__control sk-hidden--visually\" id=\"sk-estimator-id-1\" type=\"checkbox\" checked><label for=\"sk-estimator-id-1\" class=\"sk-toggleable__label sk-toggleable__label-arrow\">RandomForestRegressor</label><div class=\"sk-toggleable__content\"><pre>RandomForestRegressor(random_state=42)</pre></div></div></div></div></div>"
      ],
      "text/plain": [
       "RandomForestRegressor(random_state=42)"
      ]
     },
     "execution_count": 23,
     "metadata": {},
     "output_type": "execute_result"
    }
   ],
   "source": [
    "random_forest_model = RandomForestRegressor(random_state=42)\n",
    "\n",
    "# Train the model\n",
    "random_forest_model.fit(X_train, y_train)"
   ]
  },
  {
   "cell_type": "markdown",
   "id": "c356fa63",
   "metadata": {},
   "source": [
    "# Model Evaluation"
   ]
  },
  {
   "cell_type": "code",
   "execution_count": 24,
   "id": "00e3a49c",
   "metadata": {},
   "outputs": [],
   "source": [
    "from sklearn.metrics import mean_absolute_error, mean_squared_error, r2_score"
   ]
  },
  {
   "cell_type": "code",
   "execution_count": 25,
   "id": "b1fac27a",
   "metadata": {},
   "outputs": [
    {
     "name": "stdout",
     "output_type": "stream",
     "text": [
      "\n",
      "Random Forest Regression Model Evaluation:\n",
      "Mean Absolute Error: 99174.47464485235\n",
      "Mean Squared Error: 78196050711.6182\n",
      "Root Mean Squared Error: 279635.56767982536\n",
      "R-squared Score: 0.5877182204580167\n"
     ]
    }
   ],
   "source": [
    "random_forest_y_pred = random_forest_model.predict(X_test)\n",
    "random_forest_mae = mean_absolute_error(y_test, random_forest_y_pred)\n",
    "random_forest_mse = mean_squared_error(y_test, random_forest_y_pred)\n",
    "random_forest_rmse = mean_squared_error(y_test, random_forest_y_pred, squared=False)\n",
    "random_forest_r2 = r2_score(y_test, random_forest_y_pred)\n",
    "\n",
    "print(\"\\nRandom Forest Regression Model Evaluation:\")\n",
    "print(\"Mean Absolute Error:\", random_forest_mae)\n",
    "print(\"Mean Squared Error:\", random_forest_mse)\n",
    "print(\"Root Mean Squared Error:\", random_forest_rmse)\n",
    "print(\"R-squared Score:\", random_forest_r2)"
   ]
  },
  {
   "cell_type": "markdown",
   "id": "e5e900a6",
   "metadata": {},
   "source": [
    "# Prediction"
   ]
  },
  {
   "cell_type": "code",
   "execution_count": 26,
   "id": "1bfcfb72",
   "metadata": {},
   "outputs": [
    {
     "name": "stdout",
     "output_type": "stream",
     "text": [
      "\n",
      "Predictions for new data using all four features:\n",
      "Random Forest Regression Prediction: [640921.66666667]\n"
     ]
    },
    {
     "name": "stderr",
     "output_type": "stream",
     "text": [
      "D:\\Anaconda\\Lib\\site-packages\\sklearn\\base.py:464: UserWarning: X does not have valid feature names, but RandomForestRegressor was fitted with feature names\n",
      "  warnings.warn(\n"
     ]
    }
   ],
   "source": [
    "new_data_all_features = [[64,3,4.907736,52.356157]]  # Example: [Area, Room, Lon, Lat]\n",
    "\n",
    "random_forest_prediction_all_features = random_forest_model.predict(new_data_all_features)\n",
    "\n",
    "print(\"\\nPredictions for new data using all four features:\")\n",
    "print(\"Random Forest Regression Prediction:\", random_forest_prediction_all_features)"
   ]
  },
  {
   "cell_type": "markdown",
   "id": "f8e36ae5",
   "metadata": {},
   "source": [
    "# Accuracy and Error rate"
   ]
  },
  {
   "cell_type": "code",
   "execution_count": 27,
   "id": "dd4a8b1e",
   "metadata": {},
   "outputs": [
    {
     "name": "stdout",
     "output_type": "stream",
     "text": [
      "\n",
      "Random Forest Regression:\n",
      "MAE: 99174.47464485235\n",
      "MSE: 78196050711.6182\n",
      "RMSE: 279635.56767982536\n",
      "R^2 Score: 0.5877182204580167\n"
     ]
    }
   ],
   "source": [
    "from sklearn.metrics import mean_absolute_error, mean_squared_error, r2_score\n",
    "\n",
    "# Calculate Mean Absolute Error (MAE)\n",
    "random_forest_mae = mean_absolute_error(y_test, random_forest_y_pred)\n",
    "\n",
    "# Calculate Mean Squared Error (MSE)\n",
    "random_forest_mse = mean_squared_error(y_test, random_forest_y_pred)\n",
    "\n",
    "# Calculate Root Mean Squared Error (RMSE)\n",
    "random_forest_rmse = mean_squared_error(y_test, random_forest_y_pred, squared=False)\n",
    "\n",
    "# Calculate R-squared (R^2) score\n",
    "random_forest_r2 = r2_score(y_test, random_forest_y_pred)\n",
    "\n",
    "# Print the metrics\n",
    "print(\"\\nRandom Forest Regression:\")\n",
    "print(\"MAE:\", random_forest_mae)\n",
    "print(\"MSE:\", random_forest_mse)\n",
    "print(\"RMSE:\", random_forest_rmse)\n",
    "print(\"R^2 Score:\", random_forest_r2)"
   ]
  },
  {
   "cell_type": "markdown",
   "id": "95869ad2",
   "metadata": {},
   "source": [
    "# Visualization"
   ]
  },
  {
   "cell_type": "code",
   "execution_count": 28,
   "id": "9839af7c",
   "metadata": {},
   "outputs": [
    {
     "data": {
      "image/png": "[encoded data removed]",
      "text/plain": [
       "<Figure size 640x480 with 1 Axes>"
      ]
     },
     "metadata": {},
     "output_type": "display_data"
    }
   ],
   "source": [
    "# Scatter plot of actual vs. predicted prices for Random Forest Regression\n",
    "plt.scatter(y_test, random_forest_y_pred, color='red', label='Random Forest Regression')\n",
    "plt.xlabel('Actual Price')\n",
    "plt.ylabel('Predicted Price')\n",
    "plt.title('Actual vs. Predicted House Prices')\n",
    "plt.legend()\n",
    "plt.show()"
   ]
  },
  {
   "cell_type": "markdown",
   "id": "4738457b",
   "metadata": {},
   "source": [
    "# Model Tuning"
   ]
  },
  {
   "cell_type": "code",
   "execution_count": 29,
   "id": "9cd2837a",
   "metadata": {},
   "outputs": [
    {
     "name": "stdout",
     "output_type": "stream",
     "text": [
      "Best Hyperparameters: {'max_depth': None, 'min_samples_leaf': 4, 'min_samples_split': 2, 'n_estimators': 200}\n",
      "Best Model MSE: 76372359234.50201\n"
     ]
    }
   ],
   "source": [
    "from sklearn.model_selection import GridSearchCV\n",
    "\n",
    "# Define the parameter grid\n",
    "param_grid = {\n",
    "    'n_estimators': [100, 200, 300],\n",
    "    'max_depth': [None, 10, 20],\n",
    "    'min_samples_split': [2, 5, 10],\n",
    "    'min_samples_leaf': [1, 2, 4]\n",
    "}\n",
    "\n",
    "# Initialize the GridSearchCV object\n",
    "grid_search = GridSearchCV(estimator=RandomForestRegressor(random_state=42),\n",
    "                           param_grid=param_grid,\n",
    "                           scoring='neg_mean_squared_error',\n",
    "                           cv=5,\n",
    "                           n_jobs=-1)\n",
    "\n",
    "# Perform the grid search\n",
    "grid_search.fit(X_train, y_train)\n",
    "\n",
    "# Get the best hyperparameters\n",
    "best_params = grid_search.best_params_\n",
    "print(\"Best Hyperparameters:\", best_params)\n",
    "\n",
    "# Get the best model\n",
    "best_model = grid_search.best_estimator_\n",
    "\n",
    "# Evaluate the best model\n",
    "best_model_y_pred = best_model.predict(X_test)\n",
    "best_model_mse = mean_squared_error(y_test, best_model_y_pred)\n",
    "print(\"Best Model MSE:\", best_model_mse)"
   ]
  },
  {
   "cell_type": "code",
   "execution_count": 30,
   "id": "89a5e37f",
   "metadata": {},
   "outputs": [
    {
     "name": "stdout",
     "output_type": "stream",
     "text": [
      "\n",
      "Predictions for new data using all four features:\n",
      "Random Forest Regression Prediction: [640921.66666667]\n"
     ]
    },
    {
     "name": "stderr",
     "output_type": "stream",
     "text": [
      "D:\\Anaconda\\Lib\\site-packages\\sklearn\\base.py:464: UserWarning: X does not have valid feature names, but RandomForestRegressor was fitted with feature names\n",
      "  warnings.warn(\n"
     ]
    }
   ],
   "source": [
    "new_data_all_features = [[64,3,4.907736,52.356157]]  # Example: [Area, Room, Lon, Lat]\n",
    "\n",
    "random_forest_prediction_all_features = random_forest_model.predict(new_data_all_features)\n",
    "\n",
    "print(\"\\nPredictions for new data using all four features:\")\n",
    "print(\"Random Forest Regression Prediction:\", random_forest_prediction_all_features)"
   ]
  },
  {
   "cell_type": "markdown",
   "id": "bdeb4d8c",
   "metadata": {},
   "source": [
    "## Random Forest Regression model with the best hyperparameters"
   ]
  },
  {
   "cell_type": "code",
   "execution_count": 31,
   "id": "f538c590",
   "metadata": {},
   "outputs": [
    {
     "name": "stdout",
     "output_type": "stream",
     "text": [
      "Best Random Forest Model MSE: 76372359234.50201\n"
     ]
    }
   ],
   "source": [
    "from sklearn.ensemble import RandomForestRegressor\n",
    "from sklearn.metrics import mean_squared_error\n",
    "\n",
    "# Define the Random Forest Regression model with the best hyperparameters\n",
    "best_random_forest_model = RandomForestRegressor(n_estimators=200, max_depth=None, min_samples_split=2, min_samples_leaf=4, random_state=42)\n",
    "\n",
    "# Train the model on the training data\n",
    "best_random_forest_model.fit(X_train, y_train)\n",
    "\n",
    "# Make predictions on the testing data\n",
    "best_random_forest_y_pred = best_random_forest_model.predict(X_test)\n",
    "\n",
    "# Evaluate the performance of the model using MSE\n",
    "best_random_forest_mse = mean_squared_error(y_test, best_random_forest_y_pred)\n",
    "print(\"Best Random Forest Model MSE:\", best_random_forest_mse)"
   ]
  },
  {
   "cell_type": "code",
   "execution_count": 32,
   "id": "75e5ff62",
   "metadata": {},
   "outputs": [
    {
     "name": "stdout",
     "output_type": "stream",
     "text": [
      "\n",
      "Predictions for new data using all four features:\n",
      "Random Forest Regression Prediction: [640921.66666667]\n"
     ]
    },
    {
     "name": "stderr",
     "output_type": "stream",
     "text": [
      "D:\\Anaconda\\Lib\\site-packages\\sklearn\\base.py:464: UserWarning: X does not have valid feature names, but RandomForestRegressor was fitted with feature names\n",
      "  warnings.warn(\n"
     ]
    }
   ],
   "source": [
    "new_data_all_features = [[64,3,4.907736,52.356157]]  # Example: [Area, Room, Lon, Lat]\n",
    "\n",
    "random_forest_prediction_all_features = random_forest_model.predict(new_data_all_features)\n",
    "\n",
    "print(\"\\nPredictions for new data using all four features:\")\n",
    "print(\"Random Forest Regression Prediction:\", random_forest_prediction_all_features)"
   ]
  },
  {
   "cell_type": "code",
   "execution_count": 33,
   "id": "a443470e",
   "metadata": {},
   "outputs": [
    {
     "data": {
      "image/png": "[encoded data removed]",
      "text/plain": [
       "<Figure size 640x480 with 1 Axes>"
      ]
     },
     "metadata": {},
     "output_type": "display_data"
    }
   ],
   "source": [
    "# Scatter plot of actual vs. predicted prices\n",
    "plt.scatter(y_test, best_random_forest_y_pred, color='blue')\n",
    "plt.xlabel('Actual Price')\n",
    "plt.ylabel('Predicted Price')\n",
    "plt.title('Actual vs. Predicted House Prices (Random Forest Regression)')\n",
    "plt.show()"
   ]
  },
  {
   "cell_type": "code",
   "execution_count": 34,
   "id": "bb3c3365",
   "metadata": {},
   "outputs": [
    {
     "name": "stdout",
     "output_type": "stream",
     "text": [
      "R-squared score: 0.5973334728995227\n"
     ]
    }
   ],
   "source": [
    "r2 = r2_score(y_test, best_random_forest_y_pred)\n",
    "\n",
    "print(\"R-squared score:\", r2)"
   ]
  },
  {
   "cell_type": "markdown",
   "id": "da4ad2bc",
   "metadata": {},
   "source": [
    "# Documentation"
   ]
  },
  {
   "cell_type": "markdown",
   "id": "36f34181",
   "metadata": {},
   "source": [
    "# Project Documentation: Predicting House Prices in Amsterdam\n",
    "\n",
    "## Introduction\n",
    "In this project, we aim to build a predictive model for house prices in Amsterdam. We'll utilize a dataset containing various features such as area, number of rooms, location coordinates (longitude and latitude), and price to train and evaluate our models. The goal is to develop a regression model that accurately predicts house prices based on these features.\n",
    "\n",
    "## Steps Implemented\n",
    "\n",
    "### 1. Data Collection\n",
    "- Obtained dataset containing information about house prices in Amsterdam.\n",
    "\n",
    "### 2. Data Exploration\n",
    "- Explored dataset to understand its structure, check for missing values, and visualize distributions of features and house prices.\n",
    "\n",
    "### 3. Data Preprocessing\n",
    "- Removed unnecessary columns ('Unnamed: 0').\n",
    "- Handled missing values in the 'Price' column by removing corresponding rows.\n",
    "- Detected and removed outliers using z-score method for numerical features.\n",
    "  \n",
    "### 4. Feature Selection\n",
    "- Selected features: 'Area', 'Room', 'Lon', 'Lat' as predictors for the model.\n",
    "\n",
    "### 5. Model Selection & Data Split\n",
    "- Chose Random Forest Regression as the regression algorithm.\n",
    "- Split the dataset into training and testing sets with a ratio of 80:20.\n",
    "\n",
    "### 6. Model Training\n",
    "- Trained Random Forest Regression model on the training data.\n",
    "\n",
    "### 7. Model Evaluation\n",
    "- Evaluated model performance using Mean Absolute Error (MAE), Mean Squared Error (MSE), Root Mean Squared Error (RMSE), and R-squared (R^2) score.\n",
    "- Obtained an R-squared score of 0.5877.\n",
    "\n",
    "### 8. Prediction\n",
    "- Made predictions for new data using the trained model.\n",
    "- Example prediction: Predicted price for a property with features [Area=64, Room=3, Lon=4.907736, Lat=52.356157] is €640,921.67.\n",
    "\n",
    "### 9. Visualization\n",
    "- Created a scatter plot of actual vs. predicted prices for Random Forest Regression model.\n",
    "\n",
    "### 10. Model Tuning\n",
    "- Tuned the Random Forest Regression model using GridSearchCV to find the best hyperparameters.\n",
    "- Obtained the best hyperparameters: {'max_depth': None, 'min_samples_leaf': 4, 'min_samples_split': 2, 'n_estimators': 200}.\n",
    "- Achieved the best model MSE of 76372359234.50.\n",
    "\n",
    "## Conclusion\n",
    "- The Random Forest Regression model demonstrates promising performance in predicting house prices in Amsterdam.\n",
    "- Further improvements could be achieved by exploring additional features or experimenting with different regression algorithms.\n"
   ]
  },
  {
   "cell_type": "code",
   "execution_count": null,
   "id": "9407fb83",
   "metadata": {},
   "outputs": [],
   "source": []
  }
 ],
 "metadata": {
  "kernelspec": {
   "display_name": "Python 3 (ipykernel)",
   "language": "python",
   "name": "python3"
  },
  "language_info": {
   "codemirror_mode": {
    "name": "ipython",
    "version": 3
   },
   "file_extension": ".py",
   "mimetype": "text/x-python",
   "name": "python",
   "nbconvert_exporter": "python",
   "pygments_lexer": "ipython3",
   "version": "3.11.4"
  }
 },
 "nbformat": 4,
 "nbformat_minor": 5
}
